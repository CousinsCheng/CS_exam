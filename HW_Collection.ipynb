{
 "cells": [
  {
   "cell_type": "code",
   "execution_count": 3,
   "id": "initial_id",
   "metadata": {
    "collapsed": true,
    "ExecuteTime": {
     "end_time": "2023-10-07T20:11:28.671830900Z",
     "start_time": "2023-10-07T20:11:28.659815700Z"
    }
   },
   "outputs": [
    {
     "name": "stdout",
     "output_type": "stream",
     "text": [
      "a，b，cd\n",
      "abcd\n"
     ]
    }
   ],
   "source": [
    "a = ['a', 'b', 'cd']\n",
    "\n",
    "#join()链接字符串序列‘ ’内是分割符\n",
    "\n",
    "print('，'.join(a))\n",
    "print(''.join(a))"
   ]
  },
  {
   "cell_type": "code",
   "execution_count": 1,
   "outputs": [
    {
     "name": "stdout",
     "output_type": "stream",
     "text": [
      "[2, 4, 10, 12]\n",
      "[2, 4, 10, 12]\n"
     ]
    }
   ],
   "source": [
    "l2 = [1,2,3,4,10,12,13]\n",
    "l3 = []\n",
    "for item in l2:\n",
    "    if item %2 == 0:\n",
    "        l3.append(item)\n",
    "        \n",
    "print(l3)\n",
    "\n",
    "#用于列表末尾添加元素的方法 list.append(element)\n",
    "# list: 这是要进行操作的列表，也就是你希望在其末尾添加元素的列表。\n",
    "# \n",
    "# element: 这是要添加到列表末尾的元素。\n",
    "# \n",
    "# append() 方法将修改原始列表，并将指定的元素添加到列表的末尾\n",
    "\n",
    "l4 = [item for item in l2 if item % 2 == 0]\n",
    "print(l4)\n",
    "\n",
    "# expression: 这是一个用于计算新列表中每个元素值的表达式。\n",
    "# \n",
    "# item: 这是用于迭代的变量，它代表了可迭代对象中的每个元素。\n",
    "# \n",
    "# iterable: 这是一个可迭代对象，通常是一个列表、元组或其他序列。\n",
    "# \n",
    "# condition（可选的）: 这是一个条件表达式，用于筛选出满足条件的元素。如果不提供条件，所有元素都会被包含在新列表中。"
   ],
   "metadata": {
    "collapsed": false,
    "ExecuteTime": {
     "end_time": "2023-10-08T18:23:32.555304200Z",
     "start_time": "2023-10-08T18:23:32.438237300Z"
    }
   },
   "id": "6cfa69f48543520c"
  },
  {
   "cell_type": "code",
   "execution_count": 1,
   "outputs": [
    {
     "name": "stdout",
     "output_type": "stream",
     "text": [
      "tgbharjftgbharjf\n"
     ]
    }
   ],
   "source": [
    "def test_function(list):\n",
    "    \n",
    "    str1 = []\n",
    "    for i in list:\n",
    "        str1.append(chr(i))\n",
    "        str2 = ''.join(str1)\n",
    "        str3 = str2[2:10].lower() *2\n",
    "    \n",
    "    return str3\n",
    "\n",
    "print(test_function([88, 85, 84, 71, 66, 72, 65, 82, 74, 70, 87, 70, 85, 68, 74, 84, 81, 87, 79, 82]))"
   ],
   "metadata": {
    "collapsed": false,
    "ExecuteTime": {
     "end_time": "2023-10-18T14:23:44.343881200Z",
     "start_time": "2023-10-18T14:23:44.331886400Z"
    }
   },
   "id": "35c51d5583dfe862"
  },
  {
   "cell_type": "code",
   "execution_count": 2,
   "outputs": [
    {
     "name": "stdout",
     "output_type": "stream",
     "text": [
      "[2, 4, 6, 8, 20, 24, 26]\n"
     ]
    }
   ],
   "source": [
    "l2 = [1,2,3,4,10,12,13]\n",
    "print([2 * item for item in l2])"
   ],
   "metadata": {
    "collapsed": false,
    "ExecuteTime": {
     "end_time": "2023-10-08T18:23:59.203076100Z",
     "start_time": "2023-10-08T18:23:59.186971300Z"
    }
   },
   "id": "86323bad0cac568a"
  },
  {
   "cell_type": "code",
   "execution_count": null,
   "outputs": [],
   "source": [
    "print(abs(-123)) #绝对值\n",
    "print(bin(123)) #转换二进制\n",
    "print(hex(123)) #转换十六进制"
   ],
   "metadata": {
    "collapsed": false
   },
   "id": "eab71070ad4babf5"
  },
  {
   "cell_type": "code",
   "execution_count": null,
   "outputs": [],
   "source": [
    "for i in range(10):\n",
    "    print(f'{i} hex={hex(i)} bin={bin(i)}')"
   ],
   "metadata": {
    "collapsed": false
   },
   "id": "6107e39de9e22bcb"
  },
  {
   "cell_type": "code",
   "execution_count": null,
   "outputs": [],
   "source": [
    "print(type(hex(123)))\n",
    "print(0x11)\n",
    "print(0x11 + 11 + 0b11111)\n",
    "\n",
    "#print(hex(123) + 0x11)\n",
    "# hex(123) 将整数 123 转换为十六进制字符串 '0x7b'。请注意，这是一个字符串，而不是整数。\n",
    "# \n",
    "# 0x11 是十六进制数，表示十进制数 17。\n",
    "# \n",
    "# 然后，你尝试将这两个值相加。但是，由于它们的类型不同，你会遇到一个 TypeError 错误，因为不能将字符串与整数直接相加。\n",
    "\n",
    "result = int(hex(123), 16) + 0x11\n",
    "print(result)\n"
   ],
   "metadata": {
    "collapsed": false
   },
   "id": "628ba0428fed8671"
  },
  {
   "cell_type": "code",
   "execution_count": null,
   "outputs": [],
   "source": [
    "print(type(12))\n",
    "print(type(0b11))\n",
    "print(type(0x11))\n",
    "print(type('11'))\n",
    "print(type(False))\n",
    "print(type(hex(123)))"
   ],
   "metadata": {
    "collapsed": false
   },
   "id": "d5d9b692bba79dd4"
  },
  {
   "cell_type": "code",
   "execution_count": null,
   "outputs": [],
   "source": [
    "for i in range(5,10):\n",
    "    print(i)\n",
    "    #迭代从 5 到 9（包括 5，但不包括 10）的整数"
   ],
   "metadata": {
    "collapsed": false
   },
   "id": "822c1d179dffe5f0"
  },
  {
   "cell_type": "code",
   "execution_count": null,
   "outputs": [],
   "source": [
    "# 创建一个执行以下步骤的test_function ：\n",
    "# 该函数接受整数列表。\n",
    "# 创建一个新列表，使用 chr 函数将传递的数字转换为字符\n",
    "# 将这个字符列表加入到一个字符串中\n",
    "# 将字符串设为小写\n",
    "# 创建一个包含字符串中第 2 到 10 个字符的字母的字符串，并将其连续放置两次。\n",
    "\n",
    "def test_function(list):\n",
    "    cov_str = []\n",
    "    \n",
    "    #使用 for 循环遍历整数列表 integer_list 中的每个整数 i\n",
    "    for i in list:\n",
    "       #cov_str += chr(i) 添加到 cov_str 中 转换为小写\n",
    "        cov_str.append(chr(i))\n",
    "       #讲列表元素拼接为字符串\n",
    "        str_join = ''.join(cov_str)\n",
    "        #小写字符串\n",
    "        low_str = str_join.lower()\n",
    "        #2to10个字符\n",
    "        two_to10_str = low_str[2:10]\n",
    "        #二倍长度\n",
    "        result = 2 * two_to10_str\n",
    "        \n",
    "    # L2 = [chr(x) for x in L]\n",
    "    # \n",
    "    # str = \"\".join(L2)\n",
    "    # \n",
    "    # str2 = str.lower()\n",
    "    # \n",
    "    # str3 = str2[2:10] * 2\n",
    "\n",
    "    #return str3\n",
    "        \n",
    "    return result\n",
    "\n",
    "print(test_function([88, 85, 84, 71, 66, 72, 65, 82, 74, 70, 87, 70, 85, 68, 74, 84, 81, 87, 79, 82]))\n"
   ],
   "metadata": {
    "collapsed": false
   },
   "id": "3d9efbea43014b1b"
  },
  {
   "cell_type": "code",
   "execution_count": 11,
   "outputs": [
    {
     "name": "stdout",
     "output_type": "stream",
     "text": [
      "1111\n",
      "1111\n",
      "101\n",
      "1\n"
     ]
    }
   ],
   "source": [
    "# 十六进制2bin\n",
    "# 编写一个函数，将包含数字的十六进制表示形式的字符串转换为二进制。\n",
    "# \n",
    "# \n",
    "# >>> hex2bin('f')\n",
    "# '1111'\n",
    "# >>> hex2bin('5')\n",
    "# '101'\n",
    "# >>> hex2bin('1')\n",
    "# '1'\n",
    "\n",
    "def hex2bin(hex_string):\n",
    "    bin_string = ''\n",
    "    for i in hex_string:\n",
    "        bin_string += bin(int(hex_string,16))[2:]\n",
    "    return bin_string\n",
    "def hex2bin2(hex_string):\n",
    "    return bin(int(hex_string,16))[2:]\n",
    "print(hex2bin('f'))\n",
    "print(hex2bin2('f'))\n",
    "print(hex2bin('5'))\n",
    "print(hex2bin('1'))"
   ],
   "metadata": {
    "collapsed": false,
    "ExecuteTime": {
     "end_time": "2023-10-10T21:03:01.547805700Z",
     "start_time": "2023-10-10T21:03:01.541375Z"
    }
   },
   "id": "4180e6a11d6d8237"
  },
  {
   "cell_type": "code",
   "execution_count": 22,
   "outputs": [
    {
     "name": "stdout",
     "output_type": "stream",
     "text": [
      "f\n",
      "21\n",
      "1\n"
     ]
    }
   ],
   "source": [
    "# 编写一个函数，将包含数字的二进制表示形式的字符串转换为十六进制格式。\n",
    "# >>> bin2hex('1111')\n",
    "# 'f'\n",
    "# >>> bin2hex('100001')\n",
    "# '21'\n",
    "# >>> bin2hex('1')\n",
    "# '1'\n",
    "\n",
    "def bin2hex(bin_string):\n",
    "    hex_string = ''\n",
    "   \n",
    "    hex_string = hex(int(bin_string,2))[2:]\n",
    "        \n",
    "    return hex_string\n",
    "\n",
    "print(bin2hex('1111'))\n",
    "print(bin2hex('100001'))\n",
    "print(bin2hex('1'))"
   ],
   "metadata": {
    "collapsed": false,
    "ExecuteTime": {
     "end_time": "2023-10-08T19:46:16.506397500Z",
     "start_time": "2023-10-08T19:46:16.489678800Z"
    }
   },
   "id": "676681f6ee75a496"
  },
  {
   "cell_type": "code",
   "execution_count": 2,
   "outputs": [
    {
     "name": "stdout",
     "output_type": "stream",
     "text": [
      "00000123\n"
     ]
    }
   ],
   "source": [
    "# 创建一个函数，填充包含数字二进制表示形式的 string ，以获得可被 8 整除的字符串长度。\n",
    "# \n",
    "# >>> fillupbyte('011')\n",
    "# '00000011'\n",
    "# >>> fillupbyte('1')\n",
    "# '00000001 '\n",
    "# >>> fillupbyte('10111')\n",
    "# '00010111'\n",
    "# >>> fillupbyte('11100111')\n",
    "# '11100111'\n",
    "# >>> fillupbyte('111001111')\n",
    "# '0000000111001111'\n",
    "\n",
    "def fillupbyte(bin_string):\n",
    "    \n",
    "    target_length = len(bin_string) + (8 - len(bin_string) % 8) % 8\n",
    "    \n",
    "    return bin_string.zfill(target_length)\n",
    "\n",
    "print(fillupbyte('123'))"
   ],
   "metadata": {
    "collapsed": false,
    "ExecuteTime": {
     "end_time": "2023-10-14T09:46:18.119485Z",
     "start_time": "2023-10-14T09:46:18.115476400Z"
    }
   },
   "id": "a6f17b6aa9a8ed89"
  },
  {
   "cell_type": "code",
   "execution_count": 17,
   "outputs": [
    {
     "name": "stdout",
     "output_type": "stream",
     "text": [
      "YQ==\n",
      "EjRWeJq83g==\n"
     ]
    }
   ],
   "source": [
    "def bin2hex(bin_string):\n",
    "    hex_string = ''\n",
    "   \n",
    "    hex_string = hex(int(bin_string,2))[2:]\n",
    "        \n",
    "    return hex_string\n",
    "\n",
    "\n",
    "def hex2bin(hex_value):\n",
    "    \n",
    "    return bin(int(hex_value, 16))[2:]\n",
    "\n",
    "def fillupbyte(text,length_mutipler,side = 'left',symbol = '0'):\n",
    "    \n",
    "    target_length = len(text) + (length_mutipler - len(text) % length_mutipler) % length_mutipler\n",
    "    if side == 'left':\n",
    "        return text.rjust(target_length,symbol)\n",
    "    else:\n",
    "        return text.ljust(target_length,symbol)\n",
    "    \n",
    "base64_table = \"ABCDEFGHIJKLMNOPQRSTUVWXYZabcdefghijklmnopqrstuvwxyz0123456789+/\"\n",
    "def int2base64(val):\n",
    "    bin_string = bin(val)[2:]\n",
    "    bin_string = fillupbyte(bin_string,8,'left')\n",
    "    bin_string = fillupbyte(bin_string,6,'right')\n",
    "    \n",
    "    ret = ''\n",
    "    for it in range(0,len(bin_string),6):\n",
    "        block_index = int(bin_string[it:it+6],2)\n",
    "        ret += base64_table[block_index]\n",
    "    return fillupbyte(ret,4,'right','=')\n",
    "print(int2base64(0x61))\n",
    "\n",
    "def hex2base64(hex_string):\n",
    "    val = int(hex_string,16)\n",
    "    return int2base64(val)\n",
    "\n",
    "print(hex2base64('123456789abcde'))\n"
   ],
   "metadata": {
    "collapsed": false,
    "ExecuteTime": {
     "end_time": "2023-10-14T10:14:32.987215100Z",
     "start_time": "2023-10-14T10:14:32.983581900Z"
    }
   },
   "id": "6e199d691db1aa8"
  },
  {
   "cell_type": "code",
   "execution_count": null,
   "outputs": [],
   "source": [
    "def fillupbyte(bin_str):\n",
    "    \n",
    "    target_length = len(bin_str) + (8 - len(bin_str)) % 8   \n",
    "    new_string = bin_str.rjust(target_length,'0')\n",
    "    return new_string\n",
    "def fillupbyte2(bin_str):\n",
    "    \n",
    "    target_length = len(bin_str) + (6 - len(bin_str)) % 6   \n",
    "    new_string = bin_str.ljust(target_length,'0')\n",
    "    return new_string\n",
    "\n",
    "base64_table = \"ABCDEFGHIJKLMNOPQRSTUVWXYZabcdefghijklmnopqrstuvwxyz0123456789+/\"\n",
    "def func1(str):\n",
    "    a1 = hex2bin(str)\n",
    "    a2 = fillupbyte(a1)\n",
    "    a3 = fillupbyte2(a2)\n",
    "    res =''\n",
    "    for i in range(0,len(a3),6):\n",
    "        block = base64_table[int(a3[i:i+6],2)]\n",
    "        res += block\n",
    "    if len(res) % 4 != 0:\n",
    "        res = res.ljust(4,'=')\n",
    "    return res\n",
    "\n",
    "print(func1('61'))\n",
    "\n",
    "def fillupbyte(text,length_mutipler,side = 'left',symbol = '0'):\n",
    "    \n",
    "    target_length = len(text) + (length_mutipler - len(text) % length_mutipler) % length_mutipler\n",
    "    if side == 'left':\n",
    "        return text.rjust(target_length,symbol)\n",
    "    else:\n",
    "        return text.ljust(target_length,symbol)\n",
    "\n",
    "\n",
    "def fillup(tar_string,mutilper,dirct = '',symbol = ''):\n",
    "    \n",
    "    target_length = len(tar_string) + (mutilper -  len(tar_string) % mutilper ) % mutilper\n",
    "    #target_length = len(tar_string) + (mutilper - len(tar_string)) % mutilper\n",
    "    if dirct == 'left':\n",
    "        res1 = tar_string.rjust(target_length,symbol)\n",
    "        return res1\n",
    "    elif dirct == 'right':\n",
    "        res2 = tar_string.ljust(target_length,symbol)\n",
    "        return res2\n",
    "#print(fillup('00111101',6,'right','0')) #0000000111001111 0000000111001111\n",
    "def bin2base64(bin_string):\n",
    "    bin_8 = fillup(bin_string,8,'left','0')\n",
    "    bin_6 = fillup(bin_8,6,'right','0')\n",
    "    \n",
    "    res = ''\n",
    "    for i in range(0,len(bin_6),6):\n",
    "        block_value = base64_table[int(bin_6[i:i+6],2)]\n",
    "        res += block_value\n",
    "        \n",
    "    return fillup(res,4,'right','=')\n",
    "\n",
    "def int2base64(int_string):\n",
    "    bin_string = bin(int_string)[2:]\n",
    "    return bin2base64(bin_string)\n",
    "\n",
    "# def hex2base64(hex_string):\n",
    "#     val = int(hex_string,16)\n",
    "#     return int2base64(val)\n",
    "\n",
    "def hex2base64(hex_string):\n",
    "    int_string = int(hex_string,16)\n",
    "    return int2base64(int_string)\n",
    "print(hex2base64('123456789abcde'))"
   ],
   "metadata": {
    "collapsed": false
   },
   "id": "d9f88992ae341b09"
  },
  {
   "cell_type": "code",
   "execution_count": 4,
   "outputs": [
    {
     "name": "stdout",
     "output_type": "stream",
     "text": [
      "a\n",
      "30\n",
      "359\n",
      "ababa\n",
      "Hi! You have found me!\n"
     ]
    }
   ],
   "source": [
    "def hex2string(hex_string):\n",
    "    ret = \"\"\n",
    "    for i in range(0,len(hex_string),2):\n",
    "        ret += chr(int(hex_string[i:i+2],16))\n",
    "    return ret\n",
    "print(hex2string('61'))\n",
    "\n",
    "def string2hex(text):\n",
    "    ret = \"\"\n",
    "    for c in text:\n",
    "        ret += hex(ord(c))[2:].rjust(2,'0')\n",
    "    return  ret\n",
    "print(string2hex('0'))\n",
    "\n",
    "def hex2bin(hex_string):\n",
    "    return bin(int(hex_string,16))[2:]\n",
    "\n",
    "def bin2hex(bin_stirng):\n",
    "    return  hex(int(bin_stirng,2))[2:]\n",
    "\n",
    "\n",
    "\n",
    "def hex_xor(hex1,hex2):\n",
    "    target_len = max(len(hex1),len(hex2))\n",
    "\n",
    "    bin1 = hex2bin(hex1).rjust(target_len*4, '0')\n",
    "    bin2 = hex2bin(hex2).rjust(target_len*4, '0')\n",
    "\n",
    "    bin3 = \"\"\n",
    "\n",
    "    for i in range(len(bin1)):\n",
    "        if bin1[i] == bin2[i]:\n",
    "            bin3 += \"0\"\n",
    "        else:\n",
    "            bin3 += \"1\"\n",
    "    return bin2hex(bin3).rjust(target_len,'0')\n",
    "\n",
    "print(hex_xor('111','248'))\n",
    "\n",
    "def creat_repeated_key(key,target_len):\n",
    "    \n",
    "    ret = \"\"\n",
    "    \n",
    "    inner_counter = 0\n",
    "    for i in range(target_len):\n",
    "        ret += key[inner_counter]\n",
    "        inner_counter = (inner_counter + 1) % len(key)\n",
    "        \n",
    "    return ret\n",
    "\n",
    "print(creat_repeated_key('ab',5))\n",
    "\n",
    "def encrypt_single_byte_xor(message,key):\n",
    "    long_key =  creat_repeated_key(key,len(message))\n",
    "    return hex_xor(message,long_key)\n",
    "\n",
    "valid_characters = \"abcdefghijklmnopqrstuvwxyz ABCDEFGHIJKLMNOPQRSTUVWXYZ!?\"\n",
    "\n",
    "def count_single_text_chars(string):\n",
    "    count = 0\n",
    "    for c in string:\n",
    "        if c in valid_characters:\n",
    "            count += 1\n",
    "            \n",
    "    return count\n",
    "\n",
    "def decrypt_single_byte_xor(cipher):\n",
    "    \n",
    "    best = None\n",
    "    best_count = 0\n",
    "    for key in range(256):\n",
    "        hex_key = hex(key)[2:].zfill(2)\n",
    "        decrypteed_message = hex2string(encrypt_single_byte_xor(cipher,hex_key))\n",
    "        actual_count = count_single_text_chars(decrypteed_message)\n",
    "        if best == None or best_count < actual_count:\n",
    "            best_count = actual_count\n",
    "            best = decrypteed_message\n",
    "    \n",
    "    return best\n",
    "\n",
    "print(decrypt_single_byte_xor('e9c88081f8ced481c9c0d7c481c7ced4cfc581ccc480'))"
   ],
   "metadata": {
    "collapsed": false,
    "ExecuteTime": {
     "end_time": "2023-10-16T09:48:07.782157900Z",
     "start_time": "2023-10-16T09:48:07.715021800Z"
    }
   },
   "id": "98f26a3996583fa4"
  },
  {
   "cell_type": "code",
   "execution_count": 11,
   "outputs": [
    {
     "name": "stdout",
     "output_type": "stream",
     "text": [
      "101\n",
      "21\n",
      "world\n",
      "666f6f\n"
     ]
    }
   ],
   "source": [
    "def hex2string(hex_string):\n",
    "    ret = ''\n",
    "    for it in range(0,len(hex_string),2):\n",
    "        val = int(hex_string[it:it+2],16)\n",
    "        ret += chr(val)\n",
    "    return ret\n",
    "\n",
    "def string2hex(message):\n",
    "    ret = ''\n",
    "    for c in message:\n",
    "        hex_value = hex(ord(c))[2:].rjust(2,'0')\n",
    "        ret += hex_value\n",
    "    return ret\n",
    "\n",
    "def hex2bin(hex_str):\n",
    "    return bin(int(hex_str,16))[2:]\n",
    "print(hex2bin('5'))\n",
    "\n",
    "def bin2hex(bin_str):\n",
    "    return hex(int(bin_str,2))[2:]\n",
    "print(bin2hex('100001'))\n",
    "\n",
    "def hex_xor(hex1,hex2):\n",
    "    ret = ''\n",
    "    target_len = max(len(hex1),len(hex2))\n",
    "    b1 = hex2bin(hex1).rjust(target_len ,'0')\n",
    "    b2 = hex2bin(hex2).rjust(target_len ,'0')\n",
    "    \n",
    "    for i in range(len(b1)):\n",
    "        if b1[i] == b2[i]:\n",
    "            ret += '0'\n",
    "        else:\n",
    "            ret += '1'\n",
    "    return bin2hex(ret).rjust(target_len,'0')\n",
    "\n",
    "def hex2string2(hex_string):\n",
    "    ret = ''\n",
    "    \n",
    "    for i in range(0,len(hex_string),2):\n",
    "        str_val = chr(int(hex_string[i:i+2],16))\n",
    "        ret += str_val\n",
    "    return ret\n",
    "\n",
    "print(hex2string2('776f726c64'))\n",
    "\n",
    "def string2hex(text):\n",
    "    ret = ''\n",
    "    for c in text:\n",
    "        hex_val = hex(ord(c))[2:]\n",
    "        ret += hex_val\n",
    "    \n",
    "    return ret\n",
    "print(string2hex('foo'))\n",
    "\n",
    "def hex_xor():\n",
    "    \n",
    "    return"
   ],
   "metadata": {
    "collapsed": false,
    "ExecuteTime": {
     "end_time": "2023-10-17T09:27:35.425237500Z",
     "start_time": "2023-10-17T09:27:35.418236Z"
    }
   },
   "id": "1cd8548ea62c6102"
  },
  {
   "cell_type": "code",
   "execution_count": 8,
   "outputs": [
    {
     "name": "stdout",
     "output_type": "stream",
     "text": [
      "3V:V9\n",
      "Hello\n"
     ]
    }
   ],
   "source": [
    "def encrypt_xor_with_changing_key_by_prev_cipher(message,key,opt=''):\n",
    "\n",
    "    new_key = key\n",
    "\n",
    "    if opt == 'encrypt':\n",
    "        ret = ''\n",
    "        for i in range(len(message)):\n",
    "            new_key = ord(message[i]) ^ key\n",
    "            ret += chr(new_key)\n",
    "            key = new_key\n",
    "        return ret\n",
    "    elif opt == 'decrypt':\n",
    "        res = ''\n",
    "        for i in range(len(message)):\n",
    "            res += chr(ord(message[i]) ^ key)\n",
    "            key = ord(message[i])\n",
    "        return  res\n",
    "    # else:\n",
    "    #     return\n",
    "def encrypt_xor_with_changing_key_by_prev_cipher(message,key,opt=''):\n",
    "    ret = ''\n",
    "    new_key = key\n",
    "    for c in message:\n",
    "        if opt == 'encrypt':\n",
    "            new_value = ord(c) ^ new_key\n",
    "            ret += chr(new_value)\n",
    "            new_key = new_value\n",
    "        elif opt == 'decrypt':\n",
    "            new_value = ord(c) ^ new_key\n",
    "            ret += chr(new_value)\n",
    "            new_key = new_value ^ new_key\n",
    "    return ret\n",
    "\n",
    "print(encrypt_xor_with_changing_key_by_prev_cipher('Hello',123,'encrypt'))\n",
    "print(encrypt_xor_with_changing_key_by_prev_cipher(encrypt_xor_with_changing_key_by_prev_cipher('Hello',123,'encrypt'),123,'decrypt'))\n",
    "\n"
   ],
   "metadata": {
    "collapsed": false,
    "ExecuteTime": {
     "end_time": "2023-10-18T14:43:44.097258800Z",
     "start_time": "2023-10-18T14:43:44.088330700Z"
    }
   },
   "id": "190ff3dc9b75c348"
  },
  {
   "cell_type": "code",
   "execution_count": 25,
   "outputs": [
    {
     "name": "stdout",
     "output_type": "stream",
     "text": [
      "['aei', 'bfj', 'cg', 'dh']\n"
     ]
    }
   ],
   "source": [
    "def encrypt_xor_with_changing_key_by_prev_cipher_longer_key(message,key):\n",
    "    \n",
    "    # chunks = []\n",
    "    # for i in range(4):\n",
    "    #     chunk = \"\"\n",
    "    #     for j in range(i,len(message),4):\n",
    "    #         chunk += message[j]\n",
    "    #     chunks.append(chunk)\n",
    "    \n",
    "# chunks = [plaintext[i::4] for i in range(4)] 这行代码是在将输入文本 plaintext 分割成4个块时使用的列表推导式。让我解释一下这段代码的工作原理：\n",
    "# \n",
    "# range(4) 创建一个包含数字0到3的迭代器，表示要生成4个不同的块。\n",
    "# for i in range(4) 遍历这个迭代器，i 依次取0、1、2、3这四个值。\n",
    "# 现在，让我们看看列表推导式中的每个部分：\n",
    "# \n",
    "# plaintext[i::4] 表示从索引 i 开始，每隔4个字符取一个字符，形成一个子字符串块。\n",
    "# 所以，这行代码的作用是将输入文本 plaintext 分割成4个块，每个块包含从不同位置开始的字符，以便后续对这些块进行不同的处理。在你提供的例子中，这个方法用于将输入文本 'abcdefghij' 分成了4个块：\n",
    "# \n",
    "# 第一个块包含 'a', 'e', 'i'，从索引0开始，每隔4个字符取一个。\n",
    "# 第二个块包含 'b', 'f', 'j'，从索引1开始，每隔4个字符取一个。\n",
    "# 第三个块包含 'c', 'g'，从索引2开始，每隔4个字符取一个。\n",
    "# 第四个块包含 'd', 'h'，从索引3开始，每隔4个字符取一个。\n",
    "    chunks=[]\n",
    "    key_len = len(key)\n",
    "    chunks = [message[i::key_len] for i in range(key_len)]\n",
    "    chunks_cipher = []\n",
    "    \n",
    "    \n",
    "            \n",
    "    return chunks\n",
    "\n",
    "print(encrypt_xor_with_changing_key_by_prev_cipher_longer_key('abcdefghij',[0x20, 0x44, 0x54,0x20]))"
   ],
   "metadata": {
    "collapsed": false,
    "ExecuteTime": {
     "end_time": "2023-10-17T11:35:32.602788100Z",
     "start_time": "2023-10-17T11:35:32.598663700Z"
    }
   },
   "id": "342ac1f6afe190bd"
  }
 ],
 "metadata": {
  "kernelspec": {
   "display_name": "Python 3",
   "language": "python",
   "name": "python3"
  },
  "language_info": {
   "codemirror_mode": {
    "name": "ipython",
    "version": 2
   },
   "file_extension": ".py",
   "mimetype": "text/x-python",
   "name": "python",
   "nbconvert_exporter": "python",
   "pygments_lexer": "ipython2",
   "version": "2.7.6"
  }
 },
 "nbformat": 4,
 "nbformat_minor": 5
}
